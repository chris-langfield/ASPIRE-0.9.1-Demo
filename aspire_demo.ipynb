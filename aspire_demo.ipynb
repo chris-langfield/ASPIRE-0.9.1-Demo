{
 "cells": [
  {
   "cell_type": "code",
   "execution_count": null,
   "id": "66e65d32",
   "metadata": {},
   "outputs": [],
   "source": [
    "### ASPIRE v0.9.1 Demo"
   ]
  },
  {
   "cell_type": "markdown",
   "id": "515261a7",
   "metadata": {},
   "source": [
    "### Data Sources\n",
    "\n",
    "`Source` objects represent datasets on disk. On creation, metadata is extracted from the dataset. The image data itself is loaded and processed as-needed using batching to reduce memory load.\n",
    "\n",
    "#### Pre-processed with Relion\n",
    "\n",
    "Many datasets are pre-processed (particle picking, denoising and CTF estimation) using RELION prior to being uploaded to EMPIAR. The metadata including CTF parameters is stored in a `.star` file, which contains all the information needed to load in the dataset. \n"
   ]
  },
  {
   "cell_type": "code",
   "execution_count": null,
   "id": "756b2c91",
   "metadata": {},
   "outputs": [],
   "source": [
    "# Load Relion Source\n",
    "from aspire.source import RelionSource\n",
    "import os\n",
    "import numpy as np\n",
    "\n",
    "# Put your path to the ASPIRE-0.9.1 Demo Repo here\n",
    "root_folder = \"\"\n",
    "rln_data_folder = os.path.join(root_folder, \"relion_data\")\n",
    "starfile_path = os.path.join(rln_data_folder, \"Polish/job028/shiny.star\")\n",
    "\n",
    "rln_src = RelionSource(starfile_path, data_folder=rln_data_folder, max_rows=4000, pixel_size=1.2)"
   ]
  },
  {
   "cell_type": "markdown",
   "id": "acafa59d",
   "metadata": {},
   "source": [
    "Peek at the first 10 images. This sample data, which is from the Beta-Galactosidase enzyme, is from Relion tutorial data"
   ]
  },
  {
   "cell_type": "code",
   "execution_count": null,
   "id": "2078a850",
   "metadata": {},
   "outputs": [],
   "source": [
    "# Load and display raw images\n",
    "rln_src.images(0,10).show()"
   ]
  },
  {
   "cell_type": "markdown",
   "id": "2d1b6974",
   "metadata": {},
   "source": [
    "Source objects have associated metadata for each particle, which is implemented in rows of a Pandas dataframe. We can take a look at all the metadata that we were able to get from the Relion STAR file."
   ]
  },
  {
   "cell_type": "code",
   "execution_count": null,
   "id": "f0a88ac3",
   "metadata": {},
   "outputs": [],
   "source": [
    "## Show metadata\n",
    "rln_src._metadata"
   ]
  },
  {
   "cell_type": "markdown",
   "id": "12c978dc",
   "metadata": {},
   "source": [
    "Source objects have in-built operations. We can add a Downsampling operation to the source, which will be applied when we ask the Source to load images, via the `images()` method."
   ]
  },
  {
   "cell_type": "code",
   "execution_count": null,
   "id": "9058ee02",
   "metadata": {},
   "outputs": [],
   "source": [
    "# Downsampling\n",
    "rln_src.phase_flip()\n",
    "rln_src.images(0,10).show()"
   ]
  },
  {
   "cell_type": "markdown",
   "id": "7e8becf7",
   "metadata": {},
   "source": [
    "Since CTF information from Relion has been loaded, we can correct for CTF via phase flipping:"
   ]
  },
  {
   "cell_type": "code",
   "execution_count": null,
   "id": "7c8fe9d1",
   "metadata": {
    "scrolled": true
   },
   "outputs": [],
   "source": [
    "# Phase flip\n",
    "rln_src.downsample(64)\n",
    "rln_src.images(0,10).show()"
   ]
  },
  {
   "cell_type": "markdown",
   "id": "29f01bca",
   "metadata": {},
   "source": [
    "Assuming an anisotropic noise distribution in these images, we can use ASPIRE's noise whitening tools to estimate and then whiten the noise:"
   ]
  },
  {
   "cell_type": "code",
   "execution_count": null,
   "id": "abc779da",
   "metadata": {
    "scrolled": true
   },
   "outputs": [],
   "source": [
    "# Whiten\n",
    "from aspire.noise import AnisotropicNoiseEstimator\n",
    "estimator = AnisotropicNoiseEstimator(rln_src)\n",
    "rln_src.whiten(estimator.filter)\n",
    "rln_src.images(0,10).show()"
   ]
  },
  {
   "cell_type": "markdown",
   "id": "e48dd788",
   "metadata": {},
   "source": [
    "#### Command line option: `aspire preprocess`\n",
    "The process we did above can also be done from the command line via:"
   ]
  },
  {
   "cell_type": "markdown",
   "id": "6ffc1093",
   "metadata": {},
   "source": [
    "```\n",
    "aspire preprocess\n",
    "    --data_folder=/Users/langfield/ASPIRE_demo/relion_data\n",
    "    --starfile_in=/Users/langfield/ASPIRE_demo/relion_data/Polish/job028/shiny.star\n",
    "    --starfile_out=/Users/langfield/ASPIRE_demo/relion_data/preprocessed.star\n",
    "    --max_rows=4000\n",
    "    --downsample=64\n",
    "    --phase_flip \n",
    "    --whiten \n",
    "```"
   ]
  },
  {
   "cell_type": "markdown",
   "id": "a2aea033",
   "metadata": {},
   "source": [
    "Now that we have done some preprocessing, we can showcase Covariance Wiener Filter denoising. This step generates \n",
    "denoised particle images via the CWF method. These are used in the classification step for class averaging. \n",
    "The original preprocessed images, however, are used for the averaging process."
   ]
  },
  {
   "cell_type": "code",
   "execution_count": null,
   "id": "9d47affc",
   "metadata": {},
   "outputs": [],
   "source": [
    "# Cov2D denoising and peek\n",
    "from aspire.denoising import DenoiserCov2D\n",
    "cwf_denoiser = DenoiserCov2D(rln_src)\n",
    "\n",
    "classification_src = cwf_denoiser.denoise()\n",
    "classification_src.images(0,10).show()"
   ]
  },
  {
   "cell_type": "markdown",
   "id": "17563a02",
   "metadata": {},
   "source": [
    "#### Command line option: `aspire denoise`\n",
    "CWF denoising can also be done from the command line via:"
   ]
  },
  {
   "cell_type": "markdown",
   "id": "b62ccdca",
   "metadata": {},
   "source": [
    "```\n",
    "aspire denoise\n",
    "    --data_folder=/Users/langfield/ASPIRE_demo/relion_data\n",
    "    --starfile_in=/Users/langfield/ASPIRE_demo/relion_data/preprocessed.star\n",
    "    --starfile_out=/Users/langfield/ASPIRE_demo/relion_data/preprocessed_denoised.star\n",
    "    --max_rows=4000\n",
    "    --max_resolution=64\n",
    "```"
   ]
  },
  {
   "cell_type": "markdown",
   "id": "28c9c440",
   "metadata": {},
   "source": [
    "#### Raw micrographs with particle locations"
   ]
  },
  {
   "cell_type": "markdown",
   "id": "3a4b4af0",
   "metadata": {},
   "source": [
    "Some data sources come to us without this preprocessing done, and we must do additional preprocessing to prepare it for later stages of the ASPIRE pipeline. "
   ]
  },
  {
   "cell_type": "code",
   "execution_count": null,
   "id": "d95c339c",
   "metadata": {},
   "outputs": [],
   "source": [
    "### Micrograph\n",
    "# Take a look at a raw micrograph\n",
    "import mrcfile\n",
    "import matplotlib.pyplot as plt\n",
    "import os\n",
    "\n",
    "mrc_data_folder = os.path.join(root_folder, \"micrographs\")\n",
    "mrc_filename = os.path.join(mrc_data_folder, \"sample.mrc\")\n",
    "with mrcfile.open(mrc_filename, mode=\"r\") as mrc:\n",
    "    mrc_img = mrc.data\n",
    "\n",
    "plt.figure(figsize=(10,10))\n",
    "plt.imshow(mrc_img, cmap=\"gray\")\n",
    "plt.show()\n"
   ]
  },
  {
   "cell_type": "markdown",
   "id": "aa095485",
   "metadata": {},
   "source": [
    "Run APPLE, ASPIRE's particle picking tool"
   ]
  },
  {
   "cell_type": "code",
   "execution_count": null,
   "id": "4959958a",
   "metadata": {},
   "outputs": [],
   "source": [
    "# Picked particles\n",
    "from aspire.apple import Apple\n",
    "apple_picker = Apple(particle_size=78, output_dir=mrc_data_folder)\n",
    "centers, particles_img = apple_picker.process_micrograph(mrc_filename)\n"
   ]
  },
  {
   "cell_type": "markdown",
   "id": "d94a3ecf",
   "metadata": {},
   "source": [
    "Display the picked particles"
   ]
  },
  {
   "cell_type": "code",
   "execution_count": null,
   "id": "08b4893d",
   "metadata": {
    "scrolled": true
   },
   "outputs": [],
   "source": [
    "## Display picked particles\n",
    "plt.figure(figsize=(10,10))\n",
    "plt.imshow(particles_img, cmap=\"gray\")\n",
    "plt.show()"
   ]
  },
  {
   "cell_type": "markdown",
   "id": "67dd99fc",
   "metadata": {},
   "source": [
    "#### Command line option: `aspire apple`\n",
    "Particle picking can also be done from the command line via:"
   ]
  },
  {
   "cell_type": "markdown",
   "id": "380e4a34",
   "metadata": {},
   "source": [
    "```\n",
    "aspire apple\n",
    "    --mrc_path=/Users/langfield/ASPIRE_demo/micrographs/sample.mrc\n",
    "    --output_dir=/Users/langfield/ASPIRE_demo/micrographs\n",
    "    --create_jpg\n",
    "    --particle_size=78\n",
    "```"
   ]
  },
  {
   "cell_type": "markdown",
   "id": "dc6659bd",
   "metadata": {},
   "source": [
    "This has now created a STAR file containing a list of particle center coordinates. We can represent this new data source with a CentersCoordinateSource"
   ]
  },
  {
   "cell_type": "code",
   "execution_count": null,
   "id": "930002cd",
   "metadata": {
    "scrolled": true
   },
   "outputs": [],
   "source": [
    "# CoordinateSource\n",
    "from aspire.source import CentersCoordinateSource\n",
    "\n",
    "coords_filename = os.path.join(mrc_data_folder, \"sample_applepick.star\")\n",
    "\n",
    "ctrs_src = CentersCoordinateSource(files=[(mrc_filename, coords_filename)], particle_size=78)\n",
    "ctrs_src.images(0,10).show()"
   ]
  },
  {
   "cell_type": "markdown",
   "id": "c882b550",
   "metadata": {},
   "source": [
    "Note that the CentersCoordinateSource has blank metadata, since the only information we have  gleaned from the micrograph is particle locations"
   ]
  },
  {
   "cell_type": "code",
   "execution_count": null,
   "id": "15c939d7",
   "metadata": {},
   "outputs": [],
   "source": [
    "# metadata\n",
    "ctrs_src._metadata"
   ]
  },
  {
   "cell_type": "markdown",
   "id": "73f5802d",
   "metadata": {},
   "source": [
    "We can use ASPIRE's own CTF estimator tool"
   ]
  },
  {
   "cell_type": "code",
   "execution_count": null,
   "id": "79ebfb51",
   "metadata": {},
   "outputs": [],
   "source": [
    "# Estimate the CTF of this micrograph\n",
    "from aspire.ctf import estimate_ctf\n",
    "results = estimate_ctf(data_folder=mrc_data_folder,\n",
    "                    pixel_size=1,\n",
    "                    cs=2.0,\n",
    "                    amplitude_contrast=0.07,\n",
    "                    voltage=300.0,\n",
    "                    num_tapers=2,\n",
    "                    psd_size=512,\n",
    "                    g_min=30.0,\n",
    "                    g_max=5.0,\n",
    "                    output_dir=mrc_data_folder,\n",
    "                    dtype=np.float64,\n",
    "                )"
   ]
  },
  {
   "cell_type": "markdown",
   "id": "16778093",
   "metadata": {},
   "source": [
    "Peek at the estimated CTF"
   ]
  },
  {
   "cell_type": "code",
   "execution_count": null,
   "id": "7d919a16",
   "metadata": {
    "scrolled": true
   },
   "outputs": [],
   "source": [
    "# ctf image\n",
    "# sample.ctf\n",
    "ctf_data = mrcfile.open(os.path.join(mrc_data_folder, \"sample.ctf\")).data\n",
    "plt.figure(figsize=(10,10))\n",
    "plt.imshow(ctf_data, cmap=\"gray\")\n",
    "plt.show()"
   ]
  },
  {
   "cell_type": "markdown",
   "id": "76ec29fd",
   "metadata": {},
   "source": [
    "#### Command line option: `aspire estimate-ctf`\n",
    "CTF estimation can also be done from the command line via:"
   ]
  },
  {
   "cell_type": "markdown",
   "id": "133ae05f",
   "metadata": {},
   "source": [
    "```\n",
    "aspire estimate-ctf\n",
    "    --data_folder=/Users/langfield/ASPIRE_demo/micrographs\n",
    "    --pixel_size=1\n",
    "    --cs=2.0\n",
    "    ...\n",
    "    --output_dir=/Users/langfield/ASPIRE_demo/micrographs\n",
    "    \n",
    "```"
   ]
  },
  {
   "cell_type": "markdown",
   "id": "cada4d6b",
   "metadata": {},
   "source": [
    "#### Command line option: `aspire extract-particles`\n",
    "Loading a micrograph source and cropping particles / saving to a STAR file can be done from the command line via:"
   ]
  },
  {
   "cell_type": "markdown",
   "id": "b507996a",
   "metadata": {},
   "source": [
    "```\n",
    "aspire extract-particles\n",
    "    --mrc_paths=/Users/langfield/ASPIRE_demo/micrographs/sample.mrc\n",
    "    --coord_paths=/Users/langfield/ASPIRE_demo/micrographs/sample_applepick.star\n",
    "    --starfile_out=/Users/langfield/ASPIRE_demo/micrographs/saved_source.star\n",
    "    --centers\n",
    "    --downsample=64\n",
    "    --whiten\n",
    "    --particle_size=78\n",
    "```"
   ]
  },
  {
   "cell_type": "markdown",
   "id": "2065f2ce",
   "metadata": {},
   "source": [
    "### Image Bases\n",
    "\n",
    "Now we can demonstrate the speed and accuracy of the Fourier-Bessel and Prolate Spherical bases for 2D images."
   ]
  },
  {
   "cell_type": "code",
   "execution_count": null,
   "id": "3879ba7e",
   "metadata": {},
   "outputs": [],
   "source": [
    "from aspire.basis import FBBasis2D, PSWFBasis2D\n",
    "from aspire.image import Image\n",
    "\n",
    "# get denoised particles as numpy array\n",
    "cwf_particles = classification_src.images(0,10)\n",
    "fb_basis = FBBasis2D((64,64), dtype=np.float64)\n",
    "fb_coeffs = fb_basis.evaluate_t(cwf_particles.asnumpy())\n",
    "fb_imgs = fb_basis.evaluate(fb_coeffs)\n",
    "# Numpy Array, which we can convert into an ASPIRE Image objects\n",
    "print(\"Original images:\")\n",
    "cwf_particles.show()\n",
    "print(\"Fourier-Bessel images\")\n",
    "Image(fb_imgs).show()\n",
    "print(\"Differences\")\n",
    "(cwf_particles - Image(fb_imgs)).show()\n"
   ]
  },
  {
   "cell_type": "markdown",
   "id": "c3d2775c",
   "metadata": {},
   "source": [
    "Now we'll do the same with Prolate Spheroidal basis:"
   ]
  },
  {
   "cell_type": "code",
   "execution_count": null,
   "id": "4c64050a",
   "metadata": {},
   "outputs": [],
   "source": [
    "ps_basis = PSWFBasis2D((64,64), dtype=np.float64)\n",
    "ps_coeffs = ps_basis.evaluate_t(cwf_particles.asnumpy())\n",
    "ps_imgs = ps_basis.evaluate(ps_coeffs)\n",
    "print(\"Original images:\")\n",
    "cwf_particles.show()\n",
    "print(\"Prolate Spherical images:\")\n",
    "ps_imgs.show()\n",
    "print(\"Differences\")\n",
    "(cwf_particles- ps_imgs).show()"
   ]
  },
  {
   "cell_type": "code",
   "execution_count": null,
   "id": "b6efd44d",
   "metadata": {},
   "outputs": [],
   "source": []
  }
 ],
 "metadata": {
  "kernelspec": {
   "display_name": "Python 3 (ipykernel)",
   "language": "python",
   "name": "python3"
  },
  "language_info": {
   "codemirror_mode": {
    "name": "ipython",
    "version": 3
   },
   "file_extension": ".py",
   "mimetype": "text/x-python",
   "name": "python",
   "nbconvert_exporter": "python",
   "pygments_lexer": "ipython3",
   "version": "3.8.15"
  }
 },
 "nbformat": 4,
 "nbformat_minor": 5
}
